{
 "cells": [
  {
   "cell_type": "markdown",
   "metadata": {},
   "source": [
    "# 相似变换-ICP算法"
   ]
  },
  {
   "cell_type": "markdown",
   "metadata": {},
   "source": [
    "假设源点到目标点的变换是相似变换(Similarity transformation)即$p_t = sRp_s + t, s \\in \\mathscr{R}, t \\in \\mathscr{R}^3, R \\in SO(3)$，如何求解变换参数呢？\n",
    "其中R的求解方法与ICP算法相同,比例系数s和平移量t求解如下所示。\n",
    "\n",
    "$$s^* = \\frac{\\sum \\limits_i(y_i - \\bar{y})^T R^* (x_i - \\bar{x})}{\\sum \\limits_i(x_i - \\bar{x})^T(x_i - \\bar{x})}$$\n",
    "$$ t^* = s^{*}R^{*}\\bar{x} - \\bar{y}$$\n",
    "证明过程与ICP算法类似，这里不再展开。"
   ]
  }
 ],
 "metadata": {
  "kernelspec": {
   "display_name": "Python 3",
   "language": "python",
   "name": "python3"
  },
  "language_info": {
   "codemirror_mode": {
    "name": "ipython",
    "version": 3
   },
   "file_extension": ".py",
   "mimetype": "text/x-python",
   "name": "python",
   "nbconvert_exporter": "python",
   "pygments_lexer": "ipython3",
   "version": "3.7.6"
  }
 },
 "nbformat": 4,
 "nbformat_minor": 4
}

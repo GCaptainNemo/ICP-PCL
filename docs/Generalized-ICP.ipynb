{
 "cells": [
  {
   "cell_type": "markdown",
   "metadata": {},
   "source": [
    "# Generalized-ICP"
   ]
  },
  {
   "cell_type": "markdown",
   "metadata": {},
   "source": [
    "## 一、介绍\n",
    "Generalized-ICP论文中提出了一个针对ICP算法家族的统一概率模型，完美地解释了point-to-point ICP算法和point-to-plane ICP算法。然后作者利用该概率模型，提出了G-ICP算法(也被称为plane-to-plane的ICP算法)，并在后面的试验中证明了GICP算法优于point-to-point和point-to-plane算法。\n",
    "\n"
   ]
  },
  {
   "cell_type": "markdown",
   "metadata": {},
   "source": [
    "## 二、统一概率架构\n",
    "论文中首先总结了point-to-point和point-to-plane ICP算法。其中point-to-point ICP算法伪代码如下所示，而point-to-plane的ICP算法相当于把第11行改为$T \\leftarrow argmin_{T}\\{\\sum_i w_i ||\\eta_i(T \\cdot b_i - m_i)||\\}$，其中$\\eta_i$是$m_i$处的法向量，将残差朝法向投影强调法线方向的残差而忽略其他方向的残差。\n",
    "\n",
    "<p><img src=\"../resources/point-to-point-ICP.png\" width=30%></p>\n",
    "\n",
    "GICP概率框架推导如下所示。\n",
    "\n",
    "<p><img src=\"../resources/GICP-prob.png\" width=30%></p>\n",
    "\n",
    "则point-to-point ICP算法相当于取$C_i^B = I, C_i^A = 0$；point-to-plane ICP相当于取$C_i^B = P_i^{-1}, C_i^A = 0$，其中$P_i = \\eta_i \\cdot \\eta_i^T$代表投影矩阵。由于投影矩阵本身奇异，这里可以理解为某种极限。"
   ]
  },
  {
   "cell_type": "markdown",
   "metadata": {},
   "source": [
    "## 三、GICP算法\n",
    "在第二章中提出了统一概率架构后，作者在point-to-plane的基础上提出了GICP算法(plane-to-plane的ICP算法)。\n",
    "\n",
    "<p><img src=\"../resources/GICP.png\" width=30%></p>\n",
    "\n",
    "对20个最近邻点构成的协方差矩阵进行特征值分解$A = U\\Sigma U^T$，然后将$\\Sigma$替换为上式，相当于突出法向的残差。\n",
    "\n",
    "对比实验效果如下，可以看到GICP相对其余两种算法对$d_{max}$参数选择具有更高的鲁棒性，且在误差上也低于另外两种算法。\n",
    "<p><img src=\"../resources/dmax_influence.png\" width=30%></p>\n"
   ]
  },
  {
   "cell_type": "markdown",
   "metadata": {},
   "source": [
    "## 参考资料\n",
    "[1] [CSDN-GICP](https://blog.csdn.net/pingjun5579/article/details/119029370)\n",
    "\n",
    "[2] [Genralized-ICP论文](https://www.robots.ox.ac.uk/~avsegal/resources/papers/Generalized_ICP.pdf)\n"
   ]
  }
 ],
 "metadata": {
  "kernelspec": {
   "display_name": "Python 3",
   "language": "python",
   "name": "python3"
  },
  "language_info": {
   "codemirror_mode": {
    "name": "ipython",
    "version": 3
   },
   "file_extension": ".py",
   "mimetype": "text/x-python",
   "name": "python",
   "nbconvert_exporter": "python",
   "pygments_lexer": "ipython3",
   "version": "3.7.6"
  }
 },
 "nbformat": 4,
 "nbformat_minor": 4
}

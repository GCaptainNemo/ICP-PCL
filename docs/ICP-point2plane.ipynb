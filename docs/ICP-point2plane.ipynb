{
 "cells": [
  {
   "cell_type": "markdown",
   "metadata": {},
   "source": [
    "# 点到面的ICP算法"
   ]
  },
  {
   "cell_type": "markdown",
   "metadata": {},
   "source": [
    "## 一、介绍\n",
    "在SLAM、三维重建等位姿估计任务中，使用point-to-point的ICP算法容易陷入局部极小点，更稳健地方法是采用点到面的ICP算法。以**源点**到**目标点对应切平面**的距离平方和作为目标函数，point-to-plane比point-to-point收敛更快，point-to-plane的优化是一个非线性优化问题，论文[1]提出用线性最小二乘对非线性最小二乘进行近似。\n",
    "\n",
    "其中平面法向量通过计算k近邻点，在中心化后最小奇异值对应右奇异值向量即为平面单位法向量$\\mathbf{n_i}$。"
   ]
  },
  {
   "cell_type": "markdown",
   "metadata": {},
   "source": [
    "<p><img src=\"../resources/point-to-plane-ICP.png\" width=30%></p>\n"
   ]
  },
  {
   "cell_type": "markdown",
   "metadata": {},
   "source": [
    "## 二、参考资料\n",
    "[1]  Low K L . Linear Least-Squares Optimization for Point-to-Plane ICP Surface Registration[J]. Chapel Hill, 2004.\n",
    "\n",
    "[2] [知乎-点云配准](https://zhuanlan.zhihu.com/p/66419249)"
   ]
  }
 ],
 "metadata": {
  "kernelspec": {
   "display_name": "Python 3",
   "language": "python",
   "name": "python3"
  },
  "language_info": {
   "codemirror_mode": {
    "name": "ipython",
    "version": 3
   },
   "file_extension": ".py",
   "mimetype": "text/x-python",
   "name": "python",
   "nbconvert_exporter": "python",
   "pygments_lexer": "ipython3",
   "version": "3.7.6"
  }
 },
 "nbformat": 4,
 "nbformat_minor": 4
}
